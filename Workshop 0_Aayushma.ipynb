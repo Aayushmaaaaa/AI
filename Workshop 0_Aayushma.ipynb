{
 "cells": [
  {
   "cell_type": "code",
   "execution_count": 1,
   "id": "e1a763ce-c19c-4b35-a71d-6e9d82ce4545",
   "metadata": {},
   "outputs": [
    {
     "name": "stdout",
     "output_type": "stream",
     "text": [
      "Cold temperatures:  [8.2, 7.9, 9.0, 8.5, 7.7, 8.4, 9.5, 8.1, 7.6, 8.0, 7.8, 8.7, 9.2, 8.3, 8.9, 7.8]\n",
      "Mild temperatures:  [14.1, 13.5, 13.0, 12.9, 13.3, 14.0, 13.4, 14.2, 12.8, 13.7, 13.6, 13.8, 13.9, 12.7, 13.1, 12.5]\n",
      "Comfortable temperatures:  [17.4, 18.0, 17.8, 16.5, 17.2, 16.7, 18.3, 17.9, 17.0, 16.8, 17.5, 17.1, 18.1, 16.4, 18.2, 16.6]\n"
     ]
    }
   ],
   "source": [
    "# Task 1. Classify Temperatures:\n",
    "# 1. Create empty lists for temperature classifications:\n",
    "# (a) Cold: temperatures below 10°C.\n",
    "# (b) Mild: temperatures between 10°C and 15°C.\n",
    "# (c) Comfortable: temperatures between 15°C and 20°C.\n",
    "\n",
    "# 2. Iterate over the temperatures list and add each temperature to the appropriate cate-\n",
    "# gory.\n",
    "\n",
    "# 3. Print the lists to verify the classifications.\n",
    "# List of temperatures\n",
    "temperatures_list = [8.2, 17.4, 14.1, 7.9, 18.0, 13.5, 9.0, 17.8, 13.0, 8.5,\n",
    "16.5, 12.9, 7.7, 17.2, 13.3, 8.4, 16.7, 14.0, 9.5, 18.3, 13.4, 8.1,\n",
    "17.9, 14.2, 7.6, 17.0, 12.8, 8.0, 16.8, 13.7, 7.8, 17.5, 13.6, 8.7,\n",
    "17.1, 13.8, 9.2, 18.1, 13.9, 8.3, 16.4, 12.7, 8.9, 18.2, 13.1, 7.8,\n",
    "16.6, 12.5]\n",
    "\n",
    "# Empty lists for various temperatures:\n",
    "cold_temperatures = []\n",
    "mild_temperatures = []\n",
    "comfortable_temperatures = []\n",
    "\n",
    "# Iteration for appropriate categorization of temperatures:\n",
    "for i in temperatures_list:\n",
    "    if i<10:\n",
    "        cold_temperatures.append(i)\n",
    "    elif i>10 and i<15:\n",
    "        mild_temperatures.append(i)\n",
    "    elif i>15 and i<20:\n",
    "        comfortable_temperatures.append(i)\n",
    "\n",
    "# Displaying all types of temperatures:\n",
    "print(\"Cold temperatures: \", cold_temperatures)\n",
    "print(\"Mild temperatures: \", mild_temperatures)\n",
    "print(\"Comfortable temperatures: \", comfortable_temperatures)"
   ]
  },
  {
   "cell_type": "code",
   "execution_count": null,
   "id": "356a1bd2-99e3-42d5-89af-4a095204c18b",
   "metadata": {},
   "outputs": [],
   "source": [
    "#Task2\n",
    "#Based on Data - Answer all the Questions:\n",
    "# 1. How many times was it mild?\n",
    "# (a) Hint: Count the number of items in the mild list and print the result.\n",
    "# => It was mild for 16 times.\n",
    "# 2. How many times was it comfortable?\n",
    "# => It was comfortable for 16 times.\n",
    "# 3. How many times was it cold?\n",
    "# => It was cold for 16 times."
   ]
  },
  {
   "cell_type": "code",
   "execution_count": 2,
   "id": "7225cea7-ba2e-438c-a361-e806156aea64",
   "metadata": {},
   "outputs": [
    {
     "name": "stdout",
     "output_type": "stream",
     "text": [
      "Temperatures in fahrenheit:  [46.76, 63.32, 57.379999999999995, 46.22, 64.4, 56.3, 48.2, 64.04, 55.4, 47.3, 61.7, 55.22, 45.86, 62.959999999999994, 55.94, 47.120000000000005, 62.059999999999995, 57.2, 49.1, 64.94, 56.120000000000005, 46.58, 64.22, 57.56, 45.68, 62.6, 55.04, 46.4, 62.24, 56.66, 46.04, 63.5, 56.48, 47.66, 62.78, 56.84, 48.56, 64.58, 57.02, 46.94, 61.519999999999996, 54.86, 48.02, 64.75999999999999, 55.58, 46.04, 61.88, 54.5]\n"
     ]
    }
   ],
   "source": [
    "# Task 3. Convert Temperatures from Celsius to Fahrenheit\n",
    "# 1. Iterate over the temperatures list and apply the formula to convert each temperature.\n",
    "# 2. Store the results in the new list.\n",
    "# 3. Print the converted Fahrenheit values.\n",
    "# List of temperatures:\n",
    "temperatures_list = [8.2, 17.4, 14.1, 7.9, 18.0, 13.5, 9.0, 17.8, 13.0, 8.5,\n",
    "16.5, 12.9, 7.7, 17.2, 13.3, 8.4, 16.7, 14.0, 9.5, 18.3, 13.4, 8.1,\n",
    "17.9, 14.2, 7.6, 17.0, 12.8, 8.0, 16.8, 13.7, 7.8, 17.5, 13.6, 8.7,\n",
    "17.1, 13.8, 9.2, 18.1, 13.9, 8.3, 16.4, 12.7, 8.9, 18.2, 13.1, 7.8,\n",
    "16.6, 12.5]\n",
    "\n",
    "# Empty list for fahrenheit temperatures:\n",
    "fahrenheit_temperatures = []\n",
    "\n",
    "# Iteration for converting temperatures in celcius to fahrenheit:\n",
    "for celcius in temperatures_list:\n",
    "    fahrenheit = (celcius * 9/5) + 32\n",
    "    fahrenheit_temperatures.append(fahrenheit)\n",
    "\n",
    "# Displaying the output:\n",
    "print(\"Temperatures in fahrenheit: \", fahrenheit_temperatures)"
   ]
  },
  {
   "cell_type": "code",
   "execution_count": 3,
   "id": "d226f24b-2418-479b-8213-7eec7b32fc80",
   "metadata": {},
   "outputs": [
    {
     "name": "stdout",
     "output_type": "stream",
     "text": [
      "['cab', 'acb', 'abc', 'cba', 'bac', 'bca']\n",
      "['aba', 'baa', 'aab']\n"
     ]
    }
   ],
   "source": [
    "# Task 2 - Generate All Permutations of a String:\n",
    "# Scenario: Given a string, generate all possible permutations of its characters. This is useful\n",
    "# for understanding backtracking and recursive depth-first search.\n",
    "# Task:\n",
    "# • Write a recursive function generate_permutations(s) that:\n",
    "# – Takes a string s as input and returns a list of all unique permutations.\n",
    "# • Test with strings like ”abc” and ”aab”.\n",
    "\n",
    "# print(generate_permutations(\"abc\"))\n",
    "# # Should return [’abc’, ’acb’, ’bac’, ’bca’, ’cab’, ’cba’]\n",
    "def generate_permutations(s):\n",
    "    \"\"\"\n",
    "    Generate all unique permutations of a string.\n",
    "    \n",
    "    Args:\n",
    "        s (str): The input string to generate permutations for.\n",
    "    \n",
    "    Returns:\n",
    "        list: A list of all unique permutations of the input string.\n",
    "    \"\"\"\n",
    "    # Base case: If the string is empty or has one character, return it as the only permutation\n",
    "    if len(s) <= 1:\n",
    "        return [s]\n",
    "    \n",
    "    # Recursive case: Generate all unique permutations\n",
    "    permutations = set()  # Use a set to avoid duplicate permutations\n",
    "    for i, char in enumerate(s):\n",
    "        # Remove the character at index i and get the remaining substring\n",
    "        remaining = s[:i] + s[i+1:]\n",
    "        # Generate all permutations of the remaining characters\n",
    "        for perm in generate_permutations(remaining):\n",
    "            # Append the current character to each permutation of the remaining characters\n",
    "            permutations.add(char + perm)\n",
    "    \n",
    "    return list(permutations)\n",
    "\n",
    "# Test the function\n",
    "print(generate_permutations(\"abc\"))  \n",
    "print(generate_permutations(\"aab\"))  \n"
   ]
  },
  {
   "cell_type": "code",
   "execution_count": 4,
   "id": "75384ae7-e828-4078-8d63-dd935932c734",
   "metadata": {},
   "outputs": [
    {
     "name": "stdout",
     "output_type": "stream",
     "text": [
      "1400\n"
     ]
    }
   ],
   "source": [
    "# Task 3 - Directory Size Calculation:\n",
    "# Directory Size Calculation Scenario: Imagine a file system where directories can contain files\n",
    "# (with sizes in KB) and other directories. You want to calculate the total size of a directory,\n",
    "# including all nested files and subdirectories.\n",
    "# Task:\n",
    "# 1. Write a recursive function calculate_directory_size(directory) where:\n",
    "# • directory is a dictionary where keys represent file names (with values as sizes in\n",
    "\n",
    "# KB) or directory names (with values as another dictionary representing a subdi-\n",
    "# rectory).\n",
    "\n",
    "# • The function should return the total size of the directory, including all nested\n",
    "# subdirectories.\n",
    "# 2. Test the function with a sample directory structure.\n",
    "def calculate_directory_size(directory):\n",
    "    \"\"\"\n",
    "    Calculate the total size of a directory, including all nested files and subdirectories.\n",
    "    \n",
    "    Args:\n",
    "        directory (dict): A dictionary representing the directory structure, where:\n",
    "                          - Keys are file names (with values as sizes in KB).\n",
    "                          - Keys can also be directory names (with values as nested dictionaries).\n",
    "    \n",
    "    Returns:\n",
    "        int: The total size of the directory in KB.\n",
    "    \"\"\"\n",
    "    totalFileSize = 0\n",
    "    for content in directory.values():\n",
    "        if type(content) == dict:\n",
    "            totalFileSize += calculate_directory_size(content)  \n",
    "        else:\n",
    "            totalFileSize += content \n",
    "    return totalFileSize\n",
    "\n",
    "directory_structure = {\n",
    "    \"file1.txt\": 200,\n",
    "    \"file2.txt\": 300,\n",
    "    \"subdir1\": {\n",
    "        \"file3.txt\": 400,\n",
    "        \"file4.txt\": 100\n",
    "    },\n",
    "    \"subdir2\": {\n",
    "        \"subsubdir1\": {\n",
    "            \"file5.txt\": 250\n",
    "        },\n",
    "        \"file6.txt\": 150\n",
    "    }\n",
    "}\n",
    "\n",
    "print(calculate_directory_size(directory_structure))  \n"
   ]
  },
  {
   "cell_type": "code",
   "execution_count": 5,
   "id": "cd17c688-3416-472f-b01d-89bc8fee40ea",
   "metadata": {},
   "outputs": [
    {
     "name": "stdout",
     "output_type": "stream",
     "text": [
      "3\n",
      "-1\n"
     ]
    }
   ],
   "source": [
    "# Task 1 - Coin Change Problem:\n",
    "# Scenario: Given a set of coin denominations and a target amount, find the minimum number\n",
    "# of coins needed to make the amount. If it’s not possible, return - 1.\n",
    "# Task:\n",
    "# 1. Write a function min_coins(coins, amount) that:\n",
    "# • Uses DP to calculate the minimum number of coins needed to make up the\n",
    "# amount.\n",
    "# 2. Test with coins = [1, 2, 5] and amount = 11. The result should be 3 (using coins\n",
    "# [5, 5, 1]).\n",
    "def min_coins(coins, amount):\n",
    "    \"\"\"\n",
    "    Finds the minimum number of coins needed to make up a given amount using dynamic\n",
    "    programming.\n",
    "    \n",
    "    Parameters:\n",
    "    coins (list of int): A list of coin denominations available for making change.\n",
    "    amount (int): The target amount for which we need to find the minimum number of coins.\n",
    "    \n",
    "    Returns:\n",
    "    int: The minimum number of coins required to make the given amount.\n",
    "         If it is not possible to make the amount with the given coins, returns -1.\n",
    "    \"\"\"\n",
    "    # Initialize a DP array to store minimum coins needed for each amount up to the target.\n",
    "    dp = [float('inf')] * (amount + 1)\n",
    "    dp[0] = 0  # Base case: 0 coins are needed to make amount 0.\n",
    "\n",
    "    # Fill the dp array for each coin.\n",
    "    for coin in coins:\n",
    "        for i in range(coin, amount + 1):\n",
    "            dp[i] = min(dp[i], dp[i - coin] + 1)\n",
    "\n",
    "    # If dp[amount] is still infinity, the amount cannot be made up with the given coins.\n",
    "    return dp[amount] if dp[amount] != float('inf') else -1\n",
    "\n",
    "# Test the function with provided test cases.\n",
    "print(min_coins([1, 2, 5], 11))  \n",
    "print(min_coins([2], 3))         "
   ]
  },
  {
   "cell_type": "code",
   "execution_count": 6,
   "id": "33a092b8-2a53-4827-8061-8b5439720b8c",
   "metadata": {},
   "outputs": [
    {
     "name": "stdout",
     "output_type": "stream",
     "text": [
      "3\n"
     ]
    }
   ],
   "source": [
    "# Task 2 - Longest Common Subsequence (LCS):\n",
    "# Scenario: Given two strings, find the length of their longest common subsequence (LCS).\n",
    "# This is useful in text comparison.\n",
    "# Task:\n",
    "# 1. Write a function longest_common_subsequence(s1, s2) that:\n",
    "# • Uses DP to find the length of the LCS of two strings s1 and s2.\n",
    "# 2. Test with strings like \"abcde\" and \"ace\"; the LCS length should be 3 (\"ace\").\n",
    "\n",
    "\n",
    "def longest_common_subsequence(s1, s2):\n",
    "    memo = {}  # Dictionary to store computed results\n",
    "\n",
    "    def helper(i, j):\n",
    "        if i == len(s1) or j == len(s2):\n",
    "            return 0\n",
    "        if (i, j) in memo:  # Check if result is already computed\n",
    "            return memo[(i, j)]\n",
    "        if s1[i] == s2[j]:\n",
    "            memo[(i, j)] = 1 + helper(i + 1, j + 1)\n",
    "        else:\n",
    "            memo[(i, j)] = max(helper(i + 1, j), helper(i, j + 1))\n",
    "        return memo[(i, j)]\n",
    "    \n",
    "    return helper(0, 0)\n",
    "\n",
    "# Test the function\n",
    "ans = longest_common_subsequence(\"abcde\", \"ace\")\n",
    "print(ans)  \n"
   ]
  },
  {
   "cell_type": "code",
   "execution_count": 7,
   "id": "4a67ca0a-112b-482d-9309-d1640df955a6",
   "metadata": {},
   "outputs": [
    {
     "name": "stdout",
     "output_type": "stream",
     "text": [
      "9\n"
     ]
    }
   ],
   "source": [
    "# Task 3 - 0/1 Knapsack Problem:\n",
    "# Scenario: You have a list of items, each with a weight and a value. Given a weight capacity,\n",
    "# maximize the total value of items you can carry without exceeding the weight capacity.\n",
    "# Task:\n",
    "# 1. Write a function knapsack(weights, values, capacity) that:\n",
    "# • Uses DP to determine the maximum value that can be achieved within the given\n",
    "# weight capacity.\n",
    "\n",
    "# 2. Test with weights [1, 3, 4, 5], values [1, 4, 5, 7], and capacity 7. The re-\n",
    "# sult should be 9.\n",
    "\n",
    "\n",
    "def knapsack(weights, values, capacity):\n",
    "    n = len(weights)\n",
    "    dp = [0] * (capacity + 1)  # 1D DP array to store maximum value for each capacity\n",
    "\n",
    "    for i in range(n):\n",
    "        # Traverse capacities from high to low to prevent reusing the same item\n",
    "        for w in range(capacity, weights[i] - 1, -1):\n",
    "            dp[w] = max(dp[w], values[i] + dp[w - weights[i]])\n",
    "\n",
    "    return dp[capacity]  # The maximum value achievable for the given capacity\n",
    "\n",
    "# Test the function\n",
    "weights = [1, 3, 4, 5]\n",
    "values = [1, 4, 5, 7]\n",
    "capacity = 7\n",
    "result = knapsack(weights, values, capacity)\n",
    "print(result)  "
   ]
  },
  {
   "cell_type": "code",
   "execution_count": null,
   "id": "226d7351-e736-43ed-b5b7-28b049e4f26c",
   "metadata": {},
   "outputs": [],
   "source": []
  }
 ],
 "metadata": {
  "kernelspec": {
   "display_name": "Python 3 (ipykernel)",
   "language": "python",
   "name": "python3"
  },
  "language_info": {
   "codemirror_mode": {
    "name": "ipython",
    "version": 3
   },
   "file_extension": ".py",
   "mimetype": "text/x-python",
   "name": "python",
   "nbconvert_exporter": "python",
   "pygments_lexer": "ipython3",
   "version": "3.12.2"
  }
 },
 "nbformat": 4,
 "nbformat_minor": 5
}
