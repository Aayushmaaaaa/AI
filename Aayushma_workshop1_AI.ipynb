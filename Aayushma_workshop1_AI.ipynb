{
  "nbformat": 4,
  "nbformat_minor": 0,
  "metadata": {
    "colab": {
      "provenance": []
    },
    "kernelspec": {
      "name": "python3",
      "display_name": "Python 3"
    },
    "language_info": {
      "name": "python"
    }
  },
  "cells": [
    {
      "cell_type": "code",
      "execution_count": null,
      "metadata": {
        "colab": {
          "base_uri": "https://localhost:8080/"
        },
        "id": "IqHNA-1Sdyt-",
        "outputId": "ae9b15a2-b2aa-4887-94ec-a7f8c7a81020"
      },
      "outputs": [
        {
          "output_type": "execute_result",
          "data": {
            "text/plain": [
              "(2, 4)"
            ]
          },
          "metadata": {},
          "execution_count": 5
        }
      ],
      "source": [
        "import numpy as np\n",
        "a= np.array([[1,2,3,4],[2,3,4,5]])\n",
        "a.shape"
      ]
    },
    {
      "cell_type": "code",
      "source": [
        "a= np.zeros((2,3))\n",
        "a\n",
        "\n",
        "\n",
        "\n",
        "\n"
      ],
      "metadata": {
        "colab": {
          "base_uri": "https://localhost:8080/"
        },
        "id": "-3CJJMa9fYDo",
        "outputId": "0ad9ab6b-b4ee-4d0b-9697-add2aca8468e"
      },
      "execution_count": null,
      "outputs": [
        {
          "output_type": "execute_result",
          "data": {
            "text/plain": [
              "array([[0., 0., 0.],\n",
              "       [0., 0., 0.]])"
            ]
          },
          "metadata": {},
          "execution_count": 12
        }
      ]
    },
    {
      "cell_type": "code",
      "source": [
        "b=np.ones((2,3))\n",
        "b"
      ],
      "metadata": {
        "colab": {
          "base_uri": "https://localhost:8080/"
        },
        "id": "rdJMNzpufWf1",
        "outputId": "41b7f568-40e2-4097-8239-65328f6bc128"
      },
      "execution_count": null,
      "outputs": [
        {
          "output_type": "execute_result",
          "data": {
            "text/plain": [
              "array([[1., 1., 1.],\n",
              "       [1., 1., 1.]])"
            ]
          },
          "metadata": {},
          "execution_count": 13
        }
      ]
    },
    {
      "cell_type": "code",
      "source": [
        "a=np.array([[1,6,7,8],[6,7,8,9]])\n",
        "a"
      ],
      "metadata": {
        "colab": {
          "base_uri": "https://localhost:8080/"
        },
        "id": "b1o5JhbJjwMf",
        "outputId": "2e259979-188a-442c-f63c-68fd787c4f5d"
      },
      "execution_count": null,
      "outputs": [
        {
          "output_type": "execute_result",
          "data": {
            "text/plain": [
              "array([[1, 6, 7, 8],\n",
              "       [6, 7, 8, 9]])"
            ]
          },
          "metadata": {},
          "execution_count": 15
        }
      ]
    },
    {
      "cell_type": "code",
      "source": [
        "b=np.array([[3,4,5,6],[5,6,7,8]])\n",
        "b"
      ],
      "metadata": {
        "colab": {
          "base_uri": "https://localhost:8080/"
        },
        "id": "YaNEyNUTkbMQ",
        "outputId": "f93a0b8f-ff10-433f-eead-fe9f1652af10"
      },
      "execution_count": null,
      "outputs": [
        {
          "output_type": "execute_result",
          "data": {
            "text/plain": [
              "array([[3, 4, 5, 6],\n",
              "       [5, 6, 7, 8]])"
            ]
          },
          "metadata": {},
          "execution_count": 16
        }
      ]
    },
    {
      "cell_type": "code",
      "source": [
        "d=np.concatenate ((a,b),axis=1)\n",
        "d\n"
      ],
      "metadata": {
        "colab": {
          "base_uri": "https://localhost:8080/"
        },
        "id": "W7w8ZyCVkk_E",
        "outputId": "51c64921-2b33-4dbf-d6df-d6ac44edc64c"
      },
      "execution_count": null,
      "outputs": [
        {
          "output_type": "execute_result",
          "data": {
            "text/plain": [
              "array([[1, 6, 7, 8, 3, 4, 5, 6],\n",
              "       [6, 7, 8, 9, 5, 6, 7, 8]])"
            ]
          },
          "metadata": {},
          "execution_count": 21
        }
      ]
    },
    {
      "cell_type": "code",
      "source": [
        "d= np.stack((a,b),axis=1)\n",
        "d"
      ],
      "metadata": {
        "colab": {
          "base_uri": "https://localhost:8080/"
        },
        "id": "tWnjOVgDky_M",
        "outputId": "a36af7ce-9396-46f5-ced4-5b8abdad860f"
      },
      "execution_count": null,
      "outputs": [
        {
          "output_type": "execute_result",
          "data": {
            "text/plain": [
              "array([[[1, 6, 7, 8],\n",
              "        [3, 4, 5, 6]],\n",
              "\n",
              "       [[6, 7, 8, 9],\n",
              "        [5, 6, 7, 8]]])"
            ]
          },
          "metadata": {},
          "execution_count": 23
        }
      ]
    },
    {
      "cell_type": "code",
      "source": [
        "d=np.hstack((a,b))\n",
        "d"
      ],
      "metadata": {
        "colab": {
          "base_uri": "https://localhost:8080/"
        },
        "id": "jKIRBjCSmY-y",
        "outputId": "cfedd845-bc9d-444c-d8a5-a3e61eeb75b5"
      },
      "execution_count": null,
      "outputs": [
        {
          "output_type": "execute_result",
          "data": {
            "text/plain": [
              "array([[1, 6, 7, 8, 3, 4, 5, 6],\n",
              "       [6, 7, 8, 9, 5, 6, 7, 8]])"
            ]
          },
          "metadata": {},
          "execution_count": 24
        }
      ]
    },
    {
      "cell_type": "code",
      "source": [
        "d=np.vstack((a,b))\n",
        "d"
      ],
      "metadata": {
        "colab": {
          "base_uri": "https://localhost:8080/"
        },
        "id": "1orQgyyWmhl2",
        "outputId": "33518582-44a2-4c42-bdba-52ad3fc5a9f8"
      },
      "execution_count": null,
      "outputs": [
        {
          "output_type": "execute_result",
          "data": {
            "text/plain": [
              "array([[1, 6, 7, 8],\n",
              "       [6, 7, 8, 9],\n",
              "       [3, 4, 5, 6],\n",
              "       [5, 6, 7, 8]])"
            ]
          },
          "metadata": {},
          "execution_count": 25
        }
      ]
    },
    {
      "cell_type": "markdown",
      "source": [
        "workshop1\n"
      ],
      "metadata": {
        "id": "3ZqW6WRoxaLA"
      }
    },
    {
      "cell_type": "markdown",
      "source": [
        "question no 1\n",
        "1. Initialize an empty array with size 2X2."
      ],
      "metadata": {
        "id": "UJrxhl22xcqz"
      }
    },
    {
      "cell_type": "code",
      "source": [
        "a=np.zeros((2,2))\n",
        "a"
      ],
      "metadata": {
        "colab": {
          "base_uri": "https://localhost:8080/"
        },
        "id": "JGiFn6k-pUZD",
        "outputId": "dc076de3-effe-49a6-a9ba-d08218ec243b"
      },
      "execution_count": null,
      "outputs": [
        {
          "output_type": "execute_result",
          "data": {
            "text/plain": [
              "array([[0., 0.],\n",
              "       [0., 0.]])"
            ]
          },
          "metadata": {},
          "execution_count": 28
        }
      ]
    },
    {
      "cell_type": "markdown",
      "source": [
        "2. Initialize an all one array with size 4X2."
      ],
      "metadata": {
        "id": "JEApEplEyKGI"
      }
    },
    {
      "cell_type": "code",
      "source": [
        "b=np.ones((4,2))\n",
        "b"
      ],
      "metadata": {
        "colab": {
          "base_uri": "https://localhost:8080/"
        },
        "id": "muRCWnHjs99s",
        "outputId": "1d09a4ca-826a-40ed-d8dc-66b9c0791659"
      },
      "execution_count": null,
      "outputs": [
        {
          "output_type": "execute_result",
          "data": {
            "text/plain": [
              "array([[1., 1.],\n",
              "       [1., 1.],\n",
              "       [1., 1.],\n",
              "       [1., 1.]])"
            ]
          },
          "metadata": {},
          "execution_count": 30
        }
      ]
    },
    {
      "cell_type": "markdown",
      "source": [
        "3. Return a new array of given shape and type, filled with fill value.{Hint: np.full}"
      ],
      "metadata": {
        "id": "2X9vnkO3yNjj"
      }
    },
    {
      "cell_type": "code",
      "source": [
        "\n",
        "a= np.full((3,2),5)\n",
        "a\n"
      ],
      "metadata": {
        "colab": {
          "base_uri": "https://localhost:8080/"
        },
        "id": "NHaIw-9ZtR5o",
        "outputId": "a3fca766-bb41-4508-f7b1-d5af7976409e"
      },
      "execution_count": null,
      "outputs": [
        {
          "output_type": "execute_result",
          "data": {
            "text/plain": [
              "array([[5, 5],\n",
              "       [5, 5],\n",
              "       [5, 5]])"
            ]
          },
          "metadata": {},
          "execution_count": 40
        }
      ]
    },
    {
      "cell_type": "markdown",
      "source": [
        "4. Return a new array of zeros with same shape and type as a given array.{Hint: np.zeros like}\n"
      ],
      "metadata": {
        "id": "EQ7qLtGryUbB"
      }
    },
    {
      "cell_type": "code",
      "source": [
        "a=np.zeros_like((4,5))\n",
        "a"
      ],
      "metadata": {
        "colab": {
          "base_uri": "https://localhost:8080/"
        },
        "id": "tBOr8bHqvp0t",
        "outputId": "d3fa5384-d432-4f8f-9619-53a01aed8901"
      },
      "execution_count": null,
      "outputs": [
        {
          "output_type": "execute_result",
          "data": {
            "text/plain": [
              "array([0, 0])"
            ]
          },
          "metadata": {},
          "execution_count": 41
        }
      ]
    },
    {
      "cell_type": "markdown",
      "source": [
        "5. Return a new array of ones with same shape and type as a given array.{Hint: np.ones like}"
      ],
      "metadata": {
        "id": "beUAYjSxyaxa"
      }
    },
    {
      "cell_type": "code",
      "source": [
        "a=np.ones_like((4,5))\n",
        "a"
      ],
      "metadata": {
        "colab": {
          "base_uri": "https://localhost:8080/"
        },
        "id": "51HaU1e9wQ5P",
        "outputId": "004752d6-4a1e-4fd4-ac77-47745528e90a"
      },
      "execution_count": null,
      "outputs": [
        {
          "output_type": "execute_result",
          "data": {
            "text/plain": [
              "array([1, 1])"
            ]
          },
          "metadata": {},
          "execution_count": 42
        }
      ]
    },
    {
      "cell_type": "markdown",
      "source": [
        "6. For an existing list new_list = [1,2,3,4] convert to an numpy array.{Hint: np.array()}\n"
      ],
      "metadata": {
        "id": "FwXq3ECMykkh"
      }
    },
    {
      "cell_type": "code",
      "source": [
        "new_list=np.array([1,2,3,4])\n",
        "new_list\n"
      ],
      "metadata": {
        "colab": {
          "base_uri": "https://localhost:8080/"
        },
        "id": "RSTqBD94wavK",
        "outputId": "17151e66-5ba2-4213-8c25-64efc53ebb16"
      },
      "execution_count": null,
      "outputs": [
        {
          "output_type": "execute_result",
          "data": {
            "text/plain": [
              "array([1, 2, 3, 4])"
            ]
          },
          "metadata": {},
          "execution_count": 45
        }
      ]
    },
    {
      "cell_type": "code",
      "source": [
        "#2\n"
      ],
      "metadata": {
        "id": "rd3uw2wSxCQX"
      },
      "execution_count": null,
      "outputs": []
    },
    {
      "cell_type": "markdown",
      "source": [
        "1. Create an array with values ranging from 10 to 49. {Hint:np.arrange()}."
      ],
      "metadata": {
        "id": "_Z1DTfkVymcD"
      }
    },
    {
      "cell_type": "code",
      "source": [
        "a=np.arange(1,50)\n",
        "a"
      ],
      "metadata": {
        "colab": {
          "base_uri": "https://localhost:8080/"
        },
        "id": "AZFPGlzJxgaU",
        "outputId": "e0409ff6-75a0-4407-a950-ddea0484ba0e"
      },
      "execution_count": null,
      "outputs": [
        {
          "output_type": "execute_result",
          "data": {
            "text/plain": [
              "array([ 1,  2,  3,  4,  5,  6,  7,  8,  9, 10, 11, 12, 13, 14, 15, 16, 17,\n",
              "       18, 19, 20, 21, 22, 23, 24, 25, 26, 27, 28, 29, 30, 31, 32, 33, 34,\n",
              "       35, 36, 37, 38, 39, 40, 41, 42, 43, 44, 45, 46, 47, 48, 49])"
            ]
          },
          "metadata": {},
          "execution_count": 48
        }
      ]
    },
    {
      "cell_type": "markdown",
      "source": [
        "2. Create a 3X3 matrix with values ranging from 0 to 8.\n",
        "{Hint:look for np.reshape()}"
      ],
      "metadata": {
        "id": "9oKZytNay1YE"
      }
    },
    {
      "cell_type": "code",
      "source": [
        "a=np.array([[0,1,2],[3,4,5],[6,7,8]])\n",
        "a.reshape(3,3)"
      ],
      "metadata": {
        "colab": {
          "base_uri": "https://localhost:8080/"
        },
        "id": "fBN1n2v6y5st",
        "outputId": "204fb445-8035-43af-c851-4ecd51196faa"
      },
      "execution_count": null,
      "outputs": [
        {
          "output_type": "execute_result",
          "data": {
            "text/plain": [
              "array([[0, 1, 2],\n",
              "       [3, 4, 5],\n",
              "       [6, 7, 8]])"
            ]
          },
          "metadata": {},
          "execution_count": 51
        }
      ]
    },
    {
      "cell_type": "markdown",
      "source": [
        "3. Create a 3X3 identity matrix.{Hint:np.eye()}\n"
      ],
      "metadata": {
        "id": "B0Yw3qxXzylS"
      }
    },
    {
      "cell_type": "code",
      "source": [
        "a=np.eye(3)\n",
        "a"
      ],
      "metadata": {
        "colab": {
          "base_uri": "https://localhost:8080/"
        },
        "id": "JPlr5unQz1rh",
        "outputId": "921fb2e5-c7ff-49a9-eb65-c082341ef6e5"
      },
      "execution_count": null,
      "outputs": [
        {
          "output_type": "execute_result",
          "data": {
            "text/plain": [
              "array([[1., 0., 0.],\n",
              "       [0., 1., 0.],\n",
              "       [0., 0., 1.]])"
            ]
          },
          "metadata": {},
          "execution_count": 52
        }
      ]
    },
    {
      "cell_type": "markdown",
      "source": [
        "4. Create a random array of size 30 and find the mean of the array.\n"
      ],
      "metadata": {
        "id": "fLO--1J10KcW"
      }
    },
    {
      "cell_type": "code",
      "source": [
        "a=np.random.random(30)\n",
        "b=a.mean()\n",
        "b"
      ],
      "metadata": {
        "colab": {
          "base_uri": "https://localhost:8080/"
        },
        "id": "TgIcx4Z80XBV",
        "outputId": "41520596-7ed9-4483-e084-2635219e2f92"
      },
      "execution_count": null,
      "outputs": [
        {
          "output_type": "execute_result",
          "data": {
            "text/plain": [
              "0.5355467756737766"
            ]
          },
          "metadata": {},
          "execution_count": 55
        }
      ]
    },
    {
      "cell_type": "markdown",
      "source": [
        "5. Create a 10X10 array with random values and find the minimum and maximum values."
      ],
      "metadata": {
        "id": "elb3dn_Q05Tb"
      }
    },
    {
      "cell_type": "code",
      "source": [
        "a=np.random.random((10,10))\n",
        "b=a.min()\n",
        "c=a.max()\n",
        "\n",
        "\n",
        "print(b,c)"
      ],
      "metadata": {
        "colab": {
          "base_uri": "https://localhost:8080/"
        },
        "id": "kh35BmKT1Dml",
        "outputId": "fa803a99-86be-42cc-e16e-d6c37add31ec"
      },
      "execution_count": null,
      "outputs": [
        {
          "output_type": "stream",
          "name": "stdout",
          "text": [
            "0.019735775019323665 0.9896663683971272\n"
          ]
        }
      ]
    },
    {
      "cell_type": "markdown",
      "source": [
        "6. Create a zero array of size 10 and replace 5th element with 1."
      ],
      "metadata": {
        "id": "yCSISzpS2Oyx"
      }
    },
    {
      "cell_type": "code",
      "source": [
        "a=np.zeros(10)\n",
        "a[4]=1\n",
        "a"
      ],
      "metadata": {
        "colab": {
          "base_uri": "https://localhost:8080/"
        },
        "id": "5UpS27z-2RZe",
        "outputId": "ef198463-b3ca-4d56-c1e7-6d7824289b52"
      },
      "execution_count": null,
      "outputs": [
        {
          "output_type": "execute_result",
          "data": {
            "text/plain": [
              "array([0., 0., 0., 0., 1., 0., 0., 0., 0., 0.])"
            ]
          },
          "metadata": {},
          "execution_count": 65
        }
      ]
    },
    {
      "cell_type": "markdown",
      "source": [
        "7. Reverse an array arr = [1,2,0,0,4,0]."
      ],
      "metadata": {
        "id": "xtaDW8C826EC"
      }
    },
    {
      "cell_type": "code",
      "source": [
        "a=np.array([1,2,0,0,4,0])\n",
        "b=a[::-1]\n",
        "b\n"
      ],
      "metadata": {
        "colab": {
          "base_uri": "https://localhost:8080/"
        },
        "id": "v6cVeyW73BSZ",
        "outputId": "85abc309-517e-4b45-d834-fb900065ab01"
      },
      "execution_count": null,
      "outputs": [
        {
          "output_type": "execute_result",
          "data": {
            "text/plain": [
              "array([0, 4, 0, 0, 2, 1])"
            ]
          },
          "metadata": {},
          "execution_count": 70
        }
      ]
    },
    {
      "cell_type": "markdown",
      "source": [
        "8. Create a 2d array with 1 on border and 0 inside."
      ],
      "metadata": {
        "id": "yiyfBMM43UsI"
      }
    },
    {
      "cell_type": "code",
      "source": [
        "import numpy as np\n",
        "arr_border=np.ones((5,5))\n",
        "arr_border[1:-1,1:-1]=0\n",
        "arr_border\n",
        "\n",
        "\n",
        "\n",
        "arr_checkerboard=np.zeros((8,8))\n",
        "arr_checkerboard[1::2,::2]=1\n",
        "arr_checkerboard[::2,1::2]=1\n",
        "arr_checkerboard\n"
      ],
      "metadata": {
        "id": "d1ajMXZR3a6C",
        "colab": {
          "base_uri": "https://localhost:8080/"
        },
        "outputId": "1c590838-1f4f-4173-9a9b-0bf3c0dbea0f"
      },
      "execution_count": null,
      "outputs": [
        {
          "output_type": "execute_result",
          "data": {
            "text/plain": [
              "array([[0., 1., 0., 1., 0., 1., 0., 1.],\n",
              "       [1., 0., 1., 0., 1., 0., 1., 0.],\n",
              "       [0., 1., 0., 1., 0., 1., 0., 1.],\n",
              "       [1., 0., 1., 0., 1., 0., 1., 0.],\n",
              "       [0., 1., 0., 1., 0., 1., 0., 1.],\n",
              "       [1., 0., 1., 0., 1., 0., 1., 0.],\n",
              "       [0., 1., 0., 1., 0., 1., 0., 1.],\n",
              "       [1., 0., 1., 0., 1., 0., 1., 0.]])"
            ]
          },
          "metadata": {},
          "execution_count": 3
        }
      ]
    },
    {
      "cell_type": "markdown",
      "source": [
        "For the following arrays:\n",
        "x = np.array([[1,2],[3,5]]) and y = np.array([[5,6],[7,8]]);\n",
        "v = np.array([9,10]) and w = np.array([11,12]);\n",
        "Complete all the task using numpy:\n",
        "1.\tAdd the two array.\n"
      ],
      "metadata": {
        "id": "ITt3acHO0myz"
      }
    },
    {
      "cell_type": "code",
      "source": [
        "import numpy as np\n",
        "x = np.array([[1,2],[3,5]])\n",
        "y = np.array([[5,6],[7,8]])\n",
        "v = np.array([9,10])\n",
        "w = np.array([11,12])\n",
        "arr_add=x+y\n",
        "print(\"X + Y = \",arr_add)\n",
        "arr_add=v+w\n",
        "print(\"V + W = \",arr_add)"
      ],
      "metadata": {
        "colab": {
          "base_uri": "https://localhost:8080/"
        },
        "id": "zGwLFmzx2ThS",
        "outputId": "6406e0c0-879d-4f15-92a0-835516411035"
      },
      "execution_count": null,
      "outputs": [
        {
          "output_type": "stream",
          "name": "stdout",
          "text": [
            "X + Y =  [[ 6  8]\n",
            " [10 13]]\n",
            "V + W =  [20 22]\n"
          ]
        }
      ]
    },
    {
      "cell_type": "markdown",
      "source": [
        "2.\tSubtract the two array.\n"
      ],
      "metadata": {
        "id": "QE-WToEg2hkm"
      }
    },
    {
      "cell_type": "code",
      "source": [
        "arr_sub=x-y\n",
        "print(\"\\nX - Y = \",arr_sub)\n",
        "arr_sub=v-w\n",
        "print(\"V - W = \",arr_sub)"
      ],
      "metadata": {
        "colab": {
          "base_uri": "https://localhost:8080/"
        },
        "id": "GIGViePR2ske",
        "outputId": "8218440f-9fa1-4a4b-ec50-bb468b1921d1"
      },
      "execution_count": null,
      "outputs": [
        {
          "output_type": "stream",
          "name": "stdout",
          "text": [
            "\n",
            "X - Y =  [[-4 -4]\n",
            " [-4 -3]]\n",
            "V - W =  [-2 -2]\n"
          ]
        }
      ]
    },
    {
      "cell_type": "markdown",
      "source": [
        "3. Multiply the array with any integers of your choice."
      ],
      "metadata": {
        "id": "3mVGHtwr2xJm"
      }
    },
    {
      "cell_type": "code",
      "source": [
        "arr_mul=x*3\n",
        "print(\"\\nX * 3 = \",arr_mul)\n",
        "arr_mul=y*3\n",
        "print(\"Y * 3 = \",arr_mul)"
      ],
      "metadata": {
        "colab": {
          "base_uri": "https://localhost:8080/"
        },
        "id": "e3GIaA7q26iy",
        "outputId": "21a20515-de38-44a3-8cc2-f0f629589fa1"
      },
      "execution_count": null,
      "outputs": [
        {
          "output_type": "stream",
          "name": "stdout",
          "text": [
            "\n",
            "X * 3 =  [[ 3  6]\n",
            " [ 9 15]]\n",
            "Y * 3 =  [[15 18]\n",
            " [21 24]]\n"
          ]
        }
      ]
    },
    {
      "cell_type": "markdown",
      "source": [
        "4.\tFind the square of each element of the array."
      ],
      "metadata": {
        "id": "KQaMHDZ32_bO"
      }
    },
    {
      "cell_type": "code",
      "source": [
        "arr_square=x**2\n",
        "print(\"\\nSquare of X = \",arr_square)\n",
        "arr_square=y**2\n",
        "print(\"Square of Y = \",arr_square)\n",
        "arr_square=v**2\n",
        "print(\"Square of V = \",arr_square)\n",
        "arr_square=w**2\n",
        "print(\"Square of W = \",arr_square)"
      ],
      "metadata": {
        "colab": {
          "base_uri": "https://localhost:8080/"
        },
        "id": "u4zkQpag3IKL",
        "outputId": "b39ede60-f0f0-45d2-f6a0-3f11328778c5"
      },
      "execution_count": null,
      "outputs": [
        {
          "output_type": "stream",
          "name": "stdout",
          "text": [
            "\n",
            "Square of X =  [[ 1  4]\n",
            " [ 9 25]]\n",
            "Square of Y =  [[25 36]\n",
            " [49 64]]\n",
            "Square of V =  [ 81 100]\n",
            "Square of W =  [121 144]\n"
          ]
        }
      ]
    },
    {
      "cell_type": "markdown",
      "source": [
        "5.\tFind the dot product between: v(and)w ; x(and)v ; x(and)y."
      ],
      "metadata": {
        "id": "CtPkK3YM3I27"
      }
    },
    {
      "cell_type": "code",
      "source": [
        "arr_dot_pro=np.dot(v,w)\n",
        "print(\"\\nDot product of V and W = \",arr_dot_pro)\n",
        "arr_dot_pro=np.dot(x,v)\n",
        "print(\"Dot product of X and V = \",arr_dot_pro)\n",
        "arr_dot_pro=np.dot(x,y)\n",
        "print(\"Dot product of X and Y = \",arr_dot_pro)"
      ],
      "metadata": {
        "colab": {
          "base_uri": "https://localhost:8080/"
        },
        "id": "9KrY79Ml3MAS",
        "outputId": "a58a34e4-93ba-45da-91ac-81907c4743f3"
      },
      "execution_count": null,
      "outputs": [
        {
          "output_type": "stream",
          "name": "stdout",
          "text": [
            "\n",
            "Dot product of V and W =  219\n",
            "Dot product of X and V =  [29 77]\n",
            "Dot product of X and Y =  [[19 22]\n",
            " [50 58]]\n"
          ]
        }
      ]
    },
    {
      "cell_type": "markdown",
      "source": [
        "6.\tConcatenate x(and)y along row and Concatenate v(and)w along column. {Hint:try np.concatenate() or np.vstack() functions."
      ],
      "metadata": {
        "id": "p5nsXlh-3MlJ"
      }
    },
    {
      "cell_type": "code",
      "source": [
        "arr_concat=np.concatenate((x,y),axis=0)\n",
        "print(\"\\nConcatenate X and Y along row = \",arr_concat)\n",
        "arr_concat=np.concatenate((v,w))\n",
        "print(\"Concatenate V and W along column = \",arr_concat)\n"
      ],
      "metadata": {
        "colab": {
          "base_uri": "https://localhost:8080/"
        },
        "id": "te01qTig3QCC",
        "outputId": "0c19cf6a-4287-4bca-d6d8-3abd8a28abf8"
      },
      "execution_count": null,
      "outputs": [
        {
          "output_type": "stream",
          "name": "stdout",
          "text": [
            "\n",
            "Concatenate X and Y along row =  [[1 2]\n",
            " [3 5]\n",
            " [5 6]\n",
            " [7 8]]\n",
            "Concatenate V and W along column =  [ 9 10 11 12]\n"
          ]
        }
      ]
    },
    {
      "cell_type": "markdown",
      "source": [
        "7.\tConcatenate x(and)v; if you get an error, observe and explain why did you get the error?"
      ],
      "metadata": {
        "id": "kwUscvVn3QkH"
      }
    },
    {
      "cell_type": "code",
      "source": [
        "arr_concat=np.concatenate((x,v))\n",
        "print(\"\\nConcatenate X and V along row = \",arr_concat)\n",
        "# ValueError: all the input arrays must have same number of dimensions, but the array at index 0 has 2 dimension(s) and the array at index 1 has 1 dimension(s)\n",
        "# The error occurs because X is 2 dimensional array and array V has one dimension. SO in this case concatenation is not possible.\n"
      ],
      "metadata": {
        "colab": {
          "base_uri": "https://localhost:8080/",
          "height": 245
        },
        "id": "yi1qI50N3gi9",
        "outputId": "0735eac5-7756-4682-c2d7-b7a6bf3816a6"
      },
      "execution_count": null,
      "outputs": [
        {
          "output_type": "error",
          "ename": "ValueError",
          "evalue": "all the input arrays must have same number of dimensions, but the array at index 0 has 2 dimension(s) and the array at index 1 has 1 dimension(s)",
          "traceback": [
            "\u001b[0;31m---------------------------------------------------------------------------\u001b[0m",
            "\u001b[0;31mValueError\u001b[0m                                Traceback (most recent call last)",
            "\u001b[0;32m<ipython-input-10-bd75ad1b7005>\u001b[0m in \u001b[0;36m<cell line: 1>\u001b[0;34m()\u001b[0m\n\u001b[0;32m----> 1\u001b[0;31m \u001b[0marr_concat\u001b[0m\u001b[0;34m=\u001b[0m\u001b[0mnp\u001b[0m\u001b[0;34m.\u001b[0m\u001b[0mconcatenate\u001b[0m\u001b[0;34m(\u001b[0m\u001b[0;34m(\u001b[0m\u001b[0mx\u001b[0m\u001b[0;34m,\u001b[0m\u001b[0mv\u001b[0m\u001b[0;34m)\u001b[0m\u001b[0;34m)\u001b[0m\u001b[0;34m\u001b[0m\u001b[0;34m\u001b[0m\u001b[0m\n\u001b[0m\u001b[1;32m      2\u001b[0m \u001b[0mprint\u001b[0m\u001b[0;34m(\u001b[0m\u001b[0;34m\"\\nConcatenate X and V along row = \"\u001b[0m\u001b[0;34m,\u001b[0m\u001b[0marr_concat\u001b[0m\u001b[0;34m)\u001b[0m\u001b[0;34m\u001b[0m\u001b[0;34m\u001b[0m\u001b[0m\n\u001b[1;32m      3\u001b[0m \u001b[0;31m# ValueError: all the input arrays must have same number of dimensions, but the array at index 0 has 2 dimension(s) and the array at index 1 has 1 dimension(s)\u001b[0m\u001b[0;34m\u001b[0m\u001b[0;34m\u001b[0m\u001b[0m\n\u001b[1;32m      4\u001b[0m \u001b[0;31m# The error occurs because X is 2 dimensional array and array V has one dimension. SO in this case concatenation is not possible.\u001b[0m\u001b[0;34m\u001b[0m\u001b[0;34m\u001b[0m\u001b[0m\n\u001b[1;32m      5\u001b[0m \u001b[0;34m\u001b[0m\u001b[0m\n",
            "\u001b[0;31mValueError\u001b[0m: all the input arrays must have same number of dimensions, but the array at index 0 has 2 dimension(s) and the array at index 1 has 1 dimension(s)"
          ]
        }
      ]
    },
    {
      "cell_type": "markdown",
      "source": [
        "Problem - 4: Matrix Operations: • For the following arrays: A = np.array([[3,4],[7,8]]) and B = np.array([[5,3],[2,1]]); Prove following with Numpy:\n",
        "\n",
        "Prove A.(A)−1 = I.\n",
        "Prove AB != BA.\n",
        "Prove (AB)T = (B)T(A)T"
      ],
      "metadata": {
        "id": "BEkfpeKq3s1C"
      }
    },
    {
      "cell_type": "code",
      "source": [
        "from abc import ABC\n",
        "import numpy as np\n",
        "A = np.array([[3,4],[7,8]])\n",
        "B = np.array([[5,3],[2,1]])\n",
        "#1 Prove A.(A)−1 != I.\n",
        "A_inverse=np.linalg.inv(A)\n",
        "prove_1=np.dot(A,A_inverse)\n",
        "print(\"Prove 1.(A)−1 = I = \\n\",prove_1)\n",
        "\n",
        "#2 Prove AB != BA.\n",
        "AB=np.dot(A,B)\n",
        "BA=np.dot(B,A)\n",
        "print(\"\\nProve 2\\n\",AB,\"\\n    != \\n\",BA)\n",
        "\n",
        "#3 Prove (AB)T = (B)T(A)T\n",
        "AB_transpose = np.transpose(AB)\n",
        "B_transpose = np.transpose(B)\n",
        "A_transpose = np.transpose(A)\n",
        "BA_transpose = np.dot(B_transpose,A_transpose)\n",
        "print(\"\\nProve 3\\n(AB)T = \\n\",AB_transpose)\n",
        "print(\"\\n(B)T(A)T = \\n\",BA_transpose)"
      ],
      "metadata": {
        "colab": {
          "base_uri": "https://localhost:8080/"
        },
        "id": "dq9wUDjnEXos",
        "outputId": "c59a317b-e3a2-4aa3-d91f-8484bf5bfc08"
      },
      "execution_count": null,
      "outputs": [
        {
          "output_type": "stream",
          "name": "stdout",
          "text": [
            "Prove 1.(A)−1 = I = \n",
            " [[1.00000000e+00 0.00000000e+00]\n",
            " [1.77635684e-15 1.00000000e+00]]\n",
            "\n",
            "Prove 2\n",
            " [[23 13]\n",
            " [51 29]] \n",
            "    != \n",
            " [[36 44]\n",
            " [13 16]]\n",
            "\n",
            "Prove 3\n",
            "(AB)T = \n",
            " [[23 51]\n",
            " [13 29]]\n",
            "\n",
            "(B)T(A)T = \n",
            " [[23 51]\n",
            " [13 29]]\n"
          ]
        }
      ]
    },
    {
      "cell_type": "markdown",
      "source": [
        "• Solve the following system of Linear equation using Inverse Methods.\n",
        "\n",
        "                2x − 3y + z = −1\n",
        "                x − y + 2z = −3\n",
        "                3x + y − z = 9\n",
        "{Hint: First use Numpy array to represent the equation in Matrix form. Then Solve for: AX = B}\n",
        "\n",
        "• Now: solve the above equation using np.linalg.inv function.{Explore more about ”linalg” function of Numpy}"
      ],
      "metadata": {
        "id": "F9C8H-RiFHq1"
      }
    },
    {
      "cell_type": "code",
      "source": [
        "N=np.array([[2,-3,1],[1,-1,2],[3,1,-1]])\n",
        "P=np.array([-1,-3,9])\n",
        "\n",
        "N_inv=np.linalg.inv(N)\n",
        "X=np.dot(N_inv,P)\n",
        "print(\"\\n[ x, y, z]= \",X)\n"
      ],
      "metadata": {
        "colab": {
          "base_uri": "https://localhost:8080/"
        },
        "id": "NKvQ5hdOFMFV",
        "outputId": "8c480602-0460-491b-9ce3-a88608614583"
      },
      "execution_count": null,
      "outputs": [
        {
          "output_type": "stream",
          "name": "stdout",
          "text": [
            "\n",
            "[ x, y, z]=  [ 2.  1. -2.]\n"
          ]
        }
      ]
    },
    {
      "cell_type": "markdown",
      "source": [
        "Experiment: How Fast is Numpy?\n",
        "In this exercise, you will compare the performance and implementation of operations using plain Python\n",
        "lists (arrays) and NumPy arrays. Follow the instructions:"
      ],
      "metadata": {
        "id": "QQS5PwDEFiNA"
      }
    },
    {
      "cell_type": "markdown",
      "source": [
        "1. Element-wise Addition:\n",
        "• Using Python Lists, perform element-wise addition of two lists of size 1, 000, 000. Measure\n",
        "and Print the time taken for this operation.\n",
        "• Using Numpy Arrays, Repeat the calculation and measure and print the time taken for this\n",
        "operation.\n",
        "2. Element-wise Multiplication\n",
        "\n",
        "• Using Python Lists, perform element-wise multiplication of two lists of size 1, 000, 000. Mea-\n",
        "sure and Print the time taken for this operation.\n",
        "\n",
        "• Using Numpy Arrays, Repeat the calculation and measure and print the time taken for this\n",
        "operation.\n",
        "3. Dot Product\n",
        "• Using Python Lists, compute the dot product of two lists of size 1, 000, 000. Measure and\n",
        "Print the time taken for this operation.\n",
        "• Using Numpy Arrays, Repeat the calculation and measure and print the time taken for this\n",
        "operation.\n",
        "\n"
      ],
      "metadata": {
        "id": "T_VKYjCxFi8h"
      }
    },
    {
      "cell_type": "code",
      "source": [
        "import time\n",
        "import numpy as np\n",
        "\n",
        "# Create lists and arrays of size 1,000,000\n",
        "size = 1000000\n",
        "list1 = list(range(size))\n",
        "list2 = list(range(size))\n",
        "array1 = np.arange(size)\n",
        "array2 = np.arange(size)\n",
        "\n",
        "# Element-wise addition using Python lists\n",
        "start_time = time.time()\n",
        "result_list = [x + y for x, y in zip(list1, list2)]\n",
        "end_time = time.time()\n",
        "print(\"Element-wise addition\")\n",
        "print(\"Time taken using Python lists:\", end_time - start_time, \"seconds\")\n",
        "\n",
        "# Element-wise addition using NumPy arrays\n",
        "start_time = time.time()\n",
        "result_array = array1 + array2\n",
        "end_time = time.time()\n",
        "print(\"Time taken using NumPy arrays:\", end_time - start_time, \"seconds\")\n",
        "\n",
        "# Element-wise multiplication using Python lists\n",
        "start_time= time.time()\n",
        "result_list= [x * y for x, y in zip(list1, list2)]\n",
        "end_time= time.time()\n",
        "print(\"\\nElement-wise multiplication\")\n",
        "print(\"Time taken using Python lists:\", end_time - start_time, \"seconds\")\n",
        "\n",
        "# Element-wise multiplication using NumPy arrays\n",
        "start_time= time.time()\n",
        "result_array= array1 * array2\n",
        "end_time= time.time()\n",
        "print(\"Time taken using NumPy arrays:\", end_time - start_time, \"seconds\")\n",
        "\n",
        "# dot-product using Python lists\n",
        "start_time= time.time()\n",
        "result_list= [x * y for x, y in zip(list1, list2)]\n",
        "end_time= time.time()\n",
        "print(\"\\nDot product\")\n",
        "print(\"Time taken using Python lists:\", end_time - start_time, \"seconds\")\n",
        "\n",
        "# dot-product using NumPy arrays\n",
        "start_time= time.time()\n",
        "result_array= np.dot(array1, array2)\n",
        "end_time= time.time()\n",
        "print(\"Time taken using NumPy arrays:\", end_time - start_time, \"seconds\")\n",
        "\n"
      ],
      "metadata": {
        "colab": {
          "base_uri": "https://localhost:8080/"
        },
        "id": "KKaTdUZuFlx7",
        "outputId": "e71b41ad-250f-47c5-efad-5ca486d2faf1"
      },
      "execution_count": null,
      "outputs": [
        {
          "output_type": "stream",
          "name": "stdout",
          "text": [
            "Element-wise addition\n",
            "Time taken using Python lists: 0.15005993843078613 seconds\n",
            "Time taken using NumPy arrays: 0.0034096240997314453 seconds\n",
            "\n",
            "Element-wise multiplication\n",
            "Time taken using Python lists: 0.07944273948669434 seconds\n",
            "Time taken using NumPy arrays: 0.0035529136657714844 seconds\n",
            "\n",
            "Dot product\n",
            "Time taken using Python lists: 0.1076970100402832 seconds\n",
            "Time taken using NumPy arrays: 0.0018727779388427734 seconds\n"
          ]
        }
      ]
    },
    {
      "cell_type": "code",
      "source": [],
      "metadata": {
        "id": "47E-R8d-Fvp0"
      },
      "execution_count": null,
      "outputs": []
    },
    {
      "cell_type": "markdown",
      "source": [
        "Matrix Multiplication\n",
        "• Using Python lists, perform matrix multiplication of two matrices of size 1000x1000. Measure\n",
        "and print the time taken for this operation.\n",
        "\n",
        "• Using NumPy arrays, perform matrix multiplication of two matrices of size 1000x1000. Mea-\n",
        "sure and print the time taken for this operation."
      ],
      "metadata": {
        "id": "UMPZ6ZIcGAya"
      }
    },
    {
      "cell_type": "code",
      "source": [
        "import time\n",
        "import numpy as np\n",
        "\n",
        "# Create matrices of size 1000x1000\n",
        "size = 1000\n",
        "matrix1_list = [[1 for _ in range(size)] for _ in range(size)]\n",
        "matrix2_list = [[2 for _ in range(size)] for _ in range(size)]\n",
        "matrix1_array = np.ones((size, size))\n",
        "matrix2_array = np.full((size, size), 2)\n",
        "\n",
        "# Matrix multiplication using Python lists\n",
        "start_time = time.time()\n",
        "result_list = [[sum(a * b for a, b in zip(row_a, col_b))\n",
        "                for col_b in zip(*matrix2_list)] for row_a in matrix1_list]\n",
        "end_time = time.time()\n",
        "print(\"Time taken using Python lists:\", end_time - start_time, \"seconds\")\n",
        "\n",
        "# Matrix multiplication using NumPy arrays\n",
        "start_time = time.time()\n",
        "result_array = np.dot(matrix1_array, matrix2_array)\n",
        "end_time = time.time()\n",
        "print(\"Time taken using NumPy arrays:\", end_time - start_time, \"seconds\")"
      ],
      "metadata": {
        "colab": {
          "base_uri": "https://localhost:8080/"
        },
        "id": "esezGFAxGVx_",
        "outputId": "79500dac-35e2-41bc-9882-62ab60223de4"
      },
      "execution_count": null,
      "outputs": [
        {
          "output_type": "stream",
          "name": "stdout",
          "text": [
            "Time taken using Python lists: 112.4311740398407 seconds\n",
            "Time taken using NumPy arrays: 0.05900740623474121 seconds\n"
          ]
        }
      ]
    },
    {
      "cell_type": "code",
      "source": [],
      "metadata": {
        "id": "8C_cOo8dGBtt"
      },
      "execution_count": null,
      "outputs": []
    }
  ]
}